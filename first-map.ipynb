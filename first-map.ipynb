{
  "cells": [
    {
      "cell_type": "markdown",
      "id": "4681aaaa-53e1-4010-8fb0-39d1b85c34a8",
      "metadata": {},
      "source": [
        "# Add a map to your website\n",
        "\n",
        "Get started with maps\n",
        "\n",
        "Nate Quarderer  \n",
        "Elsa Culler  \n",
        "2024-03-28\n",
        "\n",
        "## Get started with map-making using open-sources tools\n",
        "\n",
        "### Finding locations and boundaries\n",
        "\n",
        "[Open Street Map (OSM)](https://www.openstreetmap.org/) is an\n",
        "open-source, editable map of the world – a little like a wiki for\n",
        "places. They also provide a service for looking up locations using text,\n",
        "which we’ll be using in this activity.\n",
        "\n",
        "### Mapping libraries\n",
        "\n",
        "You’ll need to start by importing the following libraries:"
      ]
    },
    {
      "cell_type": "code",
      "execution_count": 1,
      "id": "cd830589",
      "metadata": {},
      "outputs": [
        {
          "data": {
            "application/javascript": "(function(root) {\n  function now() {\n    return new Date();\n  }\n\n  var force = true;\n  var py_version = '3.3.4'.replace('rc', '-rc.').replace('.dev', '-dev.');\n  var reloading = false;\n  var Bokeh = root.Bokeh;\n\n  if (typeof (root._bokeh_timeout) === \"undefined\" || force) {\n    root._bokeh_timeout = Date.now() + 5000;\n    root._bokeh_failed_load = false;\n  }\n\n  function run_callbacks() {\n    try {\n      root._bokeh_onload_callbacks.forEach(function(callback) {\n        if (callback != null)\n          callback();\n      });\n    } finally {\n      delete root._bokeh_onload_callbacks;\n    }\n    console.debug(\"Bokeh: all callbacks have finished\");\n  }\n\n  function load_libs(css_urls, js_urls, js_modules, js_exports, callback) {\n    if (css_urls == null) css_urls = [];\n    if (js_urls == null) js_urls = [];\n    if (js_modules == null) js_modules = [];\n    if (js_exports == null) js_exports = {};\n\n    root._bokeh_onload_callbacks.push(callback);\n\n    if (root._bokeh_is_loading > 0) {\n      console.debug(\"Bokeh: BokehJS is being loaded, scheduling callback at\", now());\n      return null;\n    }\n    if (js_urls.length === 0 && js_modules.length === 0 && Object.keys(js_exports).length === 0) {\n      run_callbacks();\n      return null;\n    }\n    if (!reloading) {\n      console.debug(\"Bokeh: BokehJS not loaded, scheduling load and callback at\", now());\n    }\n\n    function on_load() {\n      root._bokeh_is_loading--;\n      if (root._bokeh_is_loading === 0) {\n        console.debug(\"Bokeh: all BokehJS libraries/stylesheets loaded\");\n        run_callbacks()\n      }\n    }\n    window._bokeh_on_load = on_load\n\n    function on_error() {\n      console.error(\"failed to load \" + url);\n    }\n\n    var skip = [];\n    if (window.requirejs) {\n      window.requirejs.config({'packages': {}, 'paths': {'jspanel': 'https://cdn.jsdelivr.net/npm/jspanel4@4.12.0/dist/jspanel', 'jspanel-modal': 'https://cdn.jsdelivr.net/npm/jspanel4@4.12.0/dist/extensions/modal/jspanel.modal', 'jspanel-tooltip': 'https://cdn.jsdelivr.net/npm/jspanel4@4.12.0/dist/extensions/tooltip/jspanel.tooltip', 'jspanel-hint': 'https://cdn.jsdelivr.net/npm/jspanel4@4.12.0/dist/extensions/hint/jspanel.hint', 'jspanel-layout': 'https://cdn.jsdelivr.net/npm/jspanel4@4.12.0/dist/extensions/layout/jspanel.layout', 'jspanel-contextmenu': 'https://cdn.jsdelivr.net/npm/jspanel4@4.12.0/dist/extensions/contextmenu/jspanel.contextmenu', 'jspanel-dock': 'https://cdn.jsdelivr.net/npm/jspanel4@4.12.0/dist/extensions/dock/jspanel.dock', 'gridstack': 'https://cdn.jsdelivr.net/npm/gridstack@7.2.3/dist/gridstack-all', 'notyf': 'https://cdn.jsdelivr.net/npm/notyf@3/notyf.min'}, 'shim': {'jspanel': {'exports': 'jsPanel'}, 'gridstack': {'exports': 'GridStack'}}});\n      require([\"jspanel\"], function(jsPanel) {\n\twindow.jsPanel = jsPanel\n\ton_load()\n      })\n      require([\"jspanel-modal\"], function() {\n\ton_load()\n      })\n      require([\"jspanel-tooltip\"], function() {\n\ton_load()\n      })\n      require([\"jspanel-hint\"], function() {\n\ton_load()\n      })\n      require([\"jspanel-layout\"], function() {\n\ton_load()\n      })\n      require([\"jspanel-contextmenu\"], function() {\n\ton_load()\n      })\n      require([\"jspanel-dock\"], function() {\n\ton_load()\n      })\n      require([\"gridstack\"], function(GridStack) {\n\twindow.GridStack = GridStack\n\ton_load()\n      })\n      require([\"notyf\"], function() {\n\ton_load()\n      })\n      root._bokeh_is_loading = css_urls.length + 9;\n    } else {\n      root._bokeh_is_loading = css_urls.length + js_urls.length + js_modules.length + Object.keys(js_exports).length;\n    }\n\n    var existing_stylesheets = []\n    var links = document.getElementsByTagName('link')\n    for (var i = 0; i < links.length; i++) {\n      var link = links[i]\n      if (link.href != null) {\n\texisting_stylesheets.push(link.href)\n      }\n    }\n    for (var i = 0; i < css_urls.length; i++) {\n      var url = css_urls[i];\n      if (existing_stylesheets.indexOf(url) !== -1) {\n\ton_load()\n\tcontinue;\n      }\n      const element = document.createElement(\"link\");\n      element.onload = on_load;\n      element.onerror = on_error;\n      element.rel = \"stylesheet\";\n      element.type = \"text/css\";\n      element.href = url;\n      console.debug(\"Bokeh: injecting link tag for BokehJS stylesheet: \", url);\n      document.body.appendChild(element);\n    }    if (((window['jsPanel'] !== undefined) && (!(window['jsPanel'] instanceof HTMLElement))) || window.requirejs) {\n      var urls = ['https://cdn.holoviz.org/panel/1.3.8/dist/bundled/floatpanel/jspanel4@4.12.0/dist/jspanel.js', 'https://cdn.holoviz.org/panel/1.3.8/dist/bundled/floatpanel/jspanel4@4.12.0/dist/extensions/modal/jspanel.modal.js', 'https://cdn.holoviz.org/panel/1.3.8/dist/bundled/floatpanel/jspanel4@4.12.0/dist/extensions/tooltip/jspanel.tooltip.js', 'https://cdn.holoviz.org/panel/1.3.8/dist/bundled/floatpanel/jspanel4@4.12.0/dist/extensions/hint/jspanel.hint.js', 'https://cdn.holoviz.org/panel/1.3.8/dist/bundled/floatpanel/jspanel4@4.12.0/dist/extensions/layout/jspanel.layout.js', 'https://cdn.holoviz.org/panel/1.3.8/dist/bundled/floatpanel/jspanel4@4.12.0/dist/extensions/contextmenu/jspanel.contextmenu.js', 'https://cdn.holoviz.org/panel/1.3.8/dist/bundled/floatpanel/jspanel4@4.12.0/dist/extensions/dock/jspanel.dock.js'];\n      for (var i = 0; i < urls.length; i++) {\n        skip.push(urls[i])\n      }\n    }    if (((window['GridStack'] !== undefined) && (!(window['GridStack'] instanceof HTMLElement))) || window.requirejs) {\n      var urls = ['https://cdn.holoviz.org/panel/1.3.8/dist/bundled/gridstack/gridstack@7.2.3/dist/gridstack-all.js'];\n      for (var i = 0; i < urls.length; i++) {\n        skip.push(urls[i])\n      }\n    }    if (((window['Notyf'] !== undefined) && (!(window['Notyf'] instanceof HTMLElement))) || window.requirejs) {\n      var urls = ['https://cdn.holoviz.org/panel/1.3.8/dist/bundled/notificationarea/notyf@3/notyf.min.js'];\n      for (var i = 0; i < urls.length; i++) {\n        skip.push(urls[i])\n      }\n    }    var existing_scripts = []\n    var scripts = document.getElementsByTagName('script')\n    for (var i = 0; i < scripts.length; i++) {\n      var script = scripts[i]\n      if (script.src != null) {\n\texisting_scripts.push(script.src)\n      }\n    }\n    for (var i = 0; i < js_urls.length; i++) {\n      var url = js_urls[i];\n      if (skip.indexOf(url) !== -1 || existing_scripts.indexOf(url) !== -1) {\n\tif (!window.requirejs) {\n\t  on_load();\n\t}\n\tcontinue;\n      }\n      var element = document.createElement('script');\n      element.onload = on_load;\n      element.onerror = on_error;\n      element.async = false;\n      element.src = url;\n      console.debug(\"Bokeh: injecting script tag for BokehJS library: \", url);\n      document.head.appendChild(element);\n    }\n    for (var i = 0; i < js_modules.length; i++) {\n      var url = js_modules[i];\n      if (skip.indexOf(url) !== -1 || existing_scripts.indexOf(url) !== -1) {\n\tif (!window.requirejs) {\n\t  on_load();\n\t}\n\tcontinue;\n      }\n      var element = document.createElement('script');\n      element.onload = on_load;\n      element.onerror = on_error;\n      element.async = false;\n      element.src = url;\n      element.type = \"module\";\n      console.debug(\"Bokeh: injecting script tag for BokehJS library: \", url);\n      document.head.appendChild(element);\n    }\n    for (const name in js_exports) {\n      var url = js_exports[name];\n      if (skip.indexOf(url) >= 0 || root[name] != null) {\n\tif (!window.requirejs) {\n\t  on_load();\n\t}\n\tcontinue;\n      }\n      var element = document.createElement('script');\n      element.onerror = on_error;\n      element.async = false;\n      element.type = \"module\";\n      console.debug(\"Bokeh: injecting script tag for BokehJS library: \", url);\n      element.textContent = `\n      import ${name} from \"${url}\"\n      window.${name} = ${name}\n      window._bokeh_on_load()\n      `\n      document.head.appendChild(element);\n    }\n    if (!js_urls.length && !js_modules.length) {\n      on_load()\n    }\n  };\n\n  function inject_raw_css(css) {\n    const element = document.createElement(\"style\");\n    element.appendChild(document.createTextNode(css));\n    document.body.appendChild(element);\n  }\n\n  var js_urls = [\"https://cdn.bokeh.org/bokeh/release/bokeh-3.3.4.min.js\", \"https://cdn.bokeh.org/bokeh/release/bokeh-gl-3.3.4.min.js\", \"https://cdn.bokeh.org/bokeh/release/bokeh-widgets-3.3.4.min.js\", \"https://cdn.bokeh.org/bokeh/release/bokeh-tables-3.3.4.min.js\", \"https://cdn.holoviz.org/panel/1.3.8/dist/panel.min.js\"];\n  var js_modules = [];\n  var js_exports = {};\n  var css_urls = [];\n  var inline_js = [    function(Bokeh) {\n      Bokeh.set_log_level(\"info\");\n    },\nfunction(Bokeh) {} // ensure no trailing comma for IE\n  ];\n\n  function run_inline_js() {\n    if ((root.Bokeh !== undefined) || (force === true)) {\n      for (var i = 0; i < inline_js.length; i++) {\n\ttry {\n          inline_js[i].call(root, root.Bokeh);\n\t} catch(e) {\n\t  if (!reloading) {\n\t    throw e;\n\t  }\n\t}\n      }\n      // Cache old bokeh versions\n      if (Bokeh != undefined && !reloading) {\n\tvar NewBokeh = root.Bokeh;\n\tif (Bokeh.versions === undefined) {\n\t  Bokeh.versions = new Map();\n\t}\n\tif (NewBokeh.version !== Bokeh.version) {\n\t  Bokeh.versions.set(NewBokeh.version, NewBokeh)\n\t}\n\troot.Bokeh = Bokeh;\n      }} else if (Date.now() < root._bokeh_timeout) {\n      setTimeout(run_inline_js, 100);\n    } else if (!root._bokeh_failed_load) {\n      console.log(\"Bokeh: BokehJS failed to load within specified timeout.\");\n      root._bokeh_failed_load = true;\n    }\n    root._bokeh_is_initializing = false\n  }\n\n  function load_or_wait() {\n    // Implement a backoff loop that tries to ensure we do not load multiple\n    // versions of Bokeh and its dependencies at the same time.\n    // In recent versions we use the root._bokeh_is_initializing flag\n    // to determine whether there is an ongoing attempt to initialize\n    // bokeh, however for backward compatibility we also try to ensure\n    // that we do not start loading a newer (Panel>=1.0 and Bokeh>3) version\n    // before older versions are fully initialized.\n    if (root._bokeh_is_initializing && Date.now() > root._bokeh_timeout) {\n      root._bokeh_is_initializing = false;\n      root._bokeh_onload_callbacks = undefined;\n      console.log(\"Bokeh: BokehJS was loaded multiple times but one version failed to initialize.\");\n      load_or_wait();\n    } else if (root._bokeh_is_initializing || (typeof root._bokeh_is_initializing === \"undefined\" && root._bokeh_onload_callbacks !== undefined)) {\n      setTimeout(load_or_wait, 100);\n    } else {\n      root._bokeh_is_initializing = true\n      root._bokeh_onload_callbacks = []\n      var bokeh_loaded = Bokeh != null && (Bokeh.version === py_version || (Bokeh.versions !== undefined && Bokeh.versions.has(py_version)));\n      if (!reloading && !bokeh_loaded) {\n\troot.Bokeh = undefined;\n      }\n      load_libs(css_urls, js_urls, js_modules, js_exports, function() {\n\tconsole.debug(\"Bokeh: BokehJS plotting callback run at\", now());\n\trun_inline_js();\n      });\n    }\n  }\n  // Give older versions of the autoload script a head-start to ensure\n  // they initialize before we start loading newer version.\n  setTimeout(load_or_wait, 100)\n}(window));",
            "application/vnd.holoviews_load.v0+json": ""
          },
          "metadata": {},
          "output_type": "display_data"
        },
        {
          "data": {
            "application/javascript": "\nif ((window.PyViz === undefined) || (window.PyViz instanceof HTMLElement)) {\n  window.PyViz = {comms: {}, comm_status:{}, kernels:{}, receivers: {}, plot_index: []}\n}\n\n\n    function JupyterCommManager() {\n    }\n\n    JupyterCommManager.prototype.register_target = function(plot_id, comm_id, msg_handler) {\n      if (window.comm_manager || ((window.Jupyter !== undefined) && (Jupyter.notebook.kernel != null))) {\n        var comm_manager = window.comm_manager || Jupyter.notebook.kernel.comm_manager;\n        comm_manager.register_target(comm_id, function(comm) {\n          comm.on_msg(msg_handler);\n        });\n      } else if ((plot_id in window.PyViz.kernels) && (window.PyViz.kernels[plot_id])) {\n        window.PyViz.kernels[plot_id].registerCommTarget(comm_id, function(comm) {\n          comm.onMsg = msg_handler;\n        });\n      } else if (typeof google != 'undefined' && google.colab.kernel != null) {\n        google.colab.kernel.comms.registerTarget(comm_id, (comm) => {\n          var messages = comm.messages[Symbol.asyncIterator]();\n          function processIteratorResult(result) {\n            var message = result.value;\n            console.log(message)\n            var content = {data: message.data, comm_id};\n            var buffers = []\n            for (var buffer of message.buffers || []) {\n              buffers.push(new DataView(buffer))\n            }\n            var metadata = message.metadata || {};\n            var msg = {content, buffers, metadata}\n            msg_handler(msg);\n            return messages.next().then(processIteratorResult);\n          }\n          return messages.next().then(processIteratorResult);\n        })\n      }\n    }\n\n    JupyterCommManager.prototype.get_client_comm = function(plot_id, comm_id, msg_handler) {\n      if (comm_id in window.PyViz.comms) {\n        return window.PyViz.comms[comm_id];\n      } else if (window.comm_manager || ((window.Jupyter !== undefined) && (Jupyter.notebook.kernel != null))) {\n        var comm_manager = window.comm_manager || Jupyter.notebook.kernel.comm_manager;\n        var comm = comm_manager.new_comm(comm_id, {}, {}, {}, comm_id);\n        if (msg_handler) {\n          comm.on_msg(msg_handler);\n        }\n      } else if ((plot_id in window.PyViz.kernels) && (window.PyViz.kernels[plot_id])) {\n        var comm = window.PyViz.kernels[plot_id].connectToComm(comm_id);\n        comm.open();\n        if (msg_handler) {\n          comm.onMsg = msg_handler;\n        }\n      } else if (typeof google != 'undefined' && google.colab.kernel != null) {\n        var comm_promise = google.colab.kernel.comms.open(comm_id)\n        comm_promise.then((comm) => {\n          window.PyViz.comms[comm_id] = comm;\n          if (msg_handler) {\n            var messages = comm.messages[Symbol.asyncIterator]();\n            function processIteratorResult(result) {\n              var message = result.value;\n              var content = {data: message.data};\n              var metadata = message.metadata || {comm_id};\n              var msg = {content, metadata}\n              msg_handler(msg);\n              return messages.next().then(processIteratorResult);\n            }\n            return messages.next().then(processIteratorResult);\n          }\n        }) \n        var sendClosure = (data, metadata, buffers, disposeOnDone) => {\n          return comm_promise.then((comm) => {\n            comm.send(data, metadata, buffers, disposeOnDone);\n          });\n        };\n        var comm = {\n          send: sendClosure\n        };\n      }\n      window.PyViz.comms[comm_id] = comm;\n      return comm;\n    }\n    window.PyViz.comm_manager = new JupyterCommManager();\n    \n\n\nvar JS_MIME_TYPE = 'application/javascript';\nvar HTML_MIME_TYPE = 'text/html';\nvar EXEC_MIME_TYPE = 'application/vnd.holoviews_exec.v0+json';\nvar CLASS_NAME = 'output';\n\n/**\n * Render data to the DOM node\n */\nfunction render(props, node) {\n  var div = document.createElement(\"div\");\n  var script = document.createElement(\"script\");\n  node.appendChild(div);\n  node.appendChild(script);\n}\n\n/**\n * Handle when a new output is added\n */\nfunction handle_add_output(event, handle) {\n  var output_area = handle.output_area;\n  var output = handle.output;\n  if ((output.data == undefined) || (!output.data.hasOwnProperty(EXEC_MIME_TYPE))) {\n    return\n  }\n  var id = output.metadata[EXEC_MIME_TYPE][\"id\"];\n  var toinsert = output_area.element.find(\".\" + CLASS_NAME.split(' ')[0]);\n  if (id !== undefined) {\n    var nchildren = toinsert.length;\n    var html_node = toinsert[nchildren-1].children[0];\n    html_node.innerHTML = output.data[HTML_MIME_TYPE];\n    var scripts = [];\n    var nodelist = html_node.querySelectorAll(\"script\");\n    for (var i in nodelist) {\n      if (nodelist.hasOwnProperty(i)) {\n        scripts.push(nodelist[i])\n      }\n    }\n\n    scripts.forEach( function (oldScript) {\n      var newScript = document.createElement(\"script\");\n      var attrs = [];\n      var nodemap = oldScript.attributes;\n      for (var j in nodemap) {\n        if (nodemap.hasOwnProperty(j)) {\n          attrs.push(nodemap[j])\n        }\n      }\n      attrs.forEach(function(attr) { newScript.setAttribute(attr.name, attr.value) });\n      newScript.appendChild(document.createTextNode(oldScript.innerHTML));\n      oldScript.parentNode.replaceChild(newScript, oldScript);\n    });\n    if (JS_MIME_TYPE in output.data) {\n      toinsert[nchildren-1].children[1].textContent = output.data[JS_MIME_TYPE];\n    }\n    output_area._hv_plot_id = id;\n    if ((window.Bokeh !== undefined) && (id in Bokeh.index)) {\n      window.PyViz.plot_index[id] = Bokeh.index[id];\n    } else {\n      window.PyViz.plot_index[id] = null;\n    }\n  } else if (output.metadata[EXEC_MIME_TYPE][\"server_id\"] !== undefined) {\n    var bk_div = document.createElement(\"div\");\n    bk_div.innerHTML = output.data[HTML_MIME_TYPE];\n    var script_attrs = bk_div.children[0].attributes;\n    for (var i = 0; i < script_attrs.length; i++) {\n      toinsert[toinsert.length - 1].childNodes[1].setAttribute(script_attrs[i].name, script_attrs[i].value);\n    }\n    // store reference to server id on output_area\n    output_area._bokeh_server_id = output.metadata[EXEC_MIME_TYPE][\"server_id\"];\n  }\n}\n\n/**\n * Handle when an output is cleared or removed\n */\nfunction handle_clear_output(event, handle) {\n  var id = handle.cell.output_area._hv_plot_id;\n  var server_id = handle.cell.output_area._bokeh_server_id;\n  if (((id === undefined) || !(id in PyViz.plot_index)) && (server_id !== undefined)) { return; }\n  var comm = window.PyViz.comm_manager.get_client_comm(\"hv-extension-comm\", \"hv-extension-comm\", function () {});\n  if (server_id !== null) {\n    comm.send({event_type: 'server_delete', 'id': server_id});\n    return;\n  } else if (comm !== null) {\n    comm.send({event_type: 'delete', 'id': id});\n  }\n  delete PyViz.plot_index[id];\n  if ((window.Bokeh !== undefined) & (id in window.Bokeh.index)) {\n    var doc = window.Bokeh.index[id].model.document\n    doc.clear();\n    const i = window.Bokeh.documents.indexOf(doc);\n    if (i > -1) {\n      window.Bokeh.documents.splice(i, 1);\n    }\n  }\n}\n\n/**\n * Handle kernel restart event\n */\nfunction handle_kernel_cleanup(event, handle) {\n  delete PyViz.comms[\"hv-extension-comm\"];\n  window.PyViz.plot_index = {}\n}\n\n/**\n * Handle update_display_data messages\n */\nfunction handle_update_output(event, handle) {\n  handle_clear_output(event, {cell: {output_area: handle.output_area}})\n  handle_add_output(event, handle)\n}\n\nfunction register_renderer(events, OutputArea) {\n  function append_mime(data, metadata, element) {\n    // create a DOM node to render to\n    var toinsert = this.create_output_subarea(\n    metadata,\n    CLASS_NAME,\n    EXEC_MIME_TYPE\n    );\n    this.keyboard_manager.register_events(toinsert);\n    // Render to node\n    var props = {data: data, metadata: metadata[EXEC_MIME_TYPE]};\n    render(props, toinsert[0]);\n    element.append(toinsert);\n    return toinsert\n  }\n\n  events.on('output_added.OutputArea', handle_add_output);\n  events.on('output_updated.OutputArea', handle_update_output);\n  events.on('clear_output.CodeCell', handle_clear_output);\n  events.on('delete.Cell', handle_clear_output);\n  events.on('kernel_ready.Kernel', handle_kernel_cleanup);\n\n  OutputArea.prototype.register_mime_type(EXEC_MIME_TYPE, append_mime, {\n    safe: true,\n    index: 0\n  });\n}\n\nif (window.Jupyter !== undefined) {\n  try {\n    var events = require('base/js/events');\n    var OutputArea = require('notebook/js/outputarea').OutputArea;\n    if (OutputArea.prototype.mime_types().indexOf(EXEC_MIME_TYPE) == -1) {\n      register_renderer(events, OutputArea);\n    }\n  } catch(err) {\n  }\n}\n",
            "application/vnd.holoviews_load.v0+json": ""
          },
          "metadata": {},
          "output_type": "display_data"
        },
        {
          "data": {
            "text/html": [
              "<style>*[data-root-id],\n",
              "*[data-root-id] > * {\n",
              "  box-sizing: border-box;\n",
              "  font-family: var(--jp-ui-font-family);\n",
              "  font-size: var(--jp-ui-font-size1);\n",
              "  color: var(--vscode-editor-foreground, var(--jp-ui-font-color1));\n",
              "}\n",
              "\n",
              "/* Override VSCode background color */\n",
              ".cell-output-ipywidget-background:has(\n",
              "    > .cell-output-ipywidget-background > .lm-Widget > *[data-root-id]\n",
              "  ),\n",
              ".cell-output-ipywidget-background:has(> .lm-Widget > *[data-root-id]) {\n",
              "  background-color: transparent !important;\n",
              "}\n",
              "</style>"
            ]
          },
          "metadata": {},
          "output_type": "display_data"
        },
        {
          "data": {
            "application/vnd.holoviews_exec.v0+json": "",
            "text/html": [
              "<div id='p1002'>\n",
              "  <div id=\"d7a6f094-9625-4b57-a7fb-3ce7ed88a010\" data-root-id=\"p1002\" style=\"display: contents;\"></div>\n",
              "</div>\n",
              "<script type=\"application/javascript\">(function(root) {\n",
              "  var docs_json = {\"fb541897-7dbb-4f96-9669-255c6cd5c026\":{\"version\":\"3.3.4\",\"title\":\"Bokeh Application\",\"roots\":[{\"type\":\"object\",\"name\":\"panel.models.browser.BrowserInfo\",\"id\":\"p1002\"},{\"type\":\"object\",\"name\":\"panel.models.comm_manager.CommManager\",\"id\":\"p1003\",\"attributes\":{\"plot_id\":\"p1002\",\"comm_id\":\"509b4bddf94345369fc6bbcc197f498a\",\"client_comm_id\":\"55e39b5d4ca7497a892cb3e7b13ec14e\"}}],\"defs\":[{\"type\":\"model\",\"name\":\"ReactiveHTML1\"},{\"type\":\"model\",\"name\":\"FlexBox1\",\"properties\":[{\"name\":\"align_content\",\"kind\":\"Any\",\"default\":\"flex-start\"},{\"name\":\"align_items\",\"kind\":\"Any\",\"default\":\"flex-start\"},{\"name\":\"flex_direction\",\"kind\":\"Any\",\"default\":\"row\"},{\"name\":\"flex_wrap\",\"kind\":\"Any\",\"default\":\"wrap\"},{\"name\":\"justify_content\",\"kind\":\"Any\",\"default\":\"flex-start\"}]},{\"type\":\"model\",\"name\":\"FloatPanel1\",\"properties\":[{\"name\":\"config\",\"kind\":\"Any\",\"default\":{\"type\":\"map\"}},{\"name\":\"contained\",\"kind\":\"Any\",\"default\":true},{\"name\":\"position\",\"kind\":\"Any\",\"default\":\"right-top\"},{\"name\":\"offsetx\",\"kind\":\"Any\",\"default\":null},{\"name\":\"offsety\",\"kind\":\"Any\",\"default\":null},{\"name\":\"theme\",\"kind\":\"Any\",\"default\":\"primary\"},{\"name\":\"status\",\"kind\":\"Any\",\"default\":\"normalized\"}]},{\"type\":\"model\",\"name\":\"GridStack1\",\"properties\":[{\"name\":\"mode\",\"kind\":\"Any\",\"default\":\"warn\"},{\"name\":\"ncols\",\"kind\":\"Any\",\"default\":null},{\"name\":\"nrows\",\"kind\":\"Any\",\"default\":null},{\"name\":\"allow_resize\",\"kind\":\"Any\",\"default\":true},{\"name\":\"allow_drag\",\"kind\":\"Any\",\"default\":true},{\"name\":\"state\",\"kind\":\"Any\",\"default\":[]}]},{\"type\":\"model\",\"name\":\"drag1\",\"properties\":[{\"name\":\"slider_width\",\"kind\":\"Any\",\"default\":5},{\"name\":\"slider_color\",\"kind\":\"Any\",\"default\":\"black\"},{\"name\":\"value\",\"kind\":\"Any\",\"default\":50}]},{\"type\":\"model\",\"name\":\"click1\",\"properties\":[{\"name\":\"terminal_output\",\"kind\":\"Any\",\"default\":\"\"},{\"name\":\"debug_name\",\"kind\":\"Any\",\"default\":\"\"},{\"name\":\"clears\",\"kind\":\"Any\",\"default\":0}]},{\"type\":\"model\",\"name\":\"copy_to_clipboard1\",\"properties\":[{\"name\":\"fill\",\"kind\":\"Any\",\"default\":\"none\"},{\"name\":\"value\",\"kind\":\"Any\",\"default\":null}]},{\"type\":\"model\",\"name\":\"FastWrapper1\",\"properties\":[{\"name\":\"object\",\"kind\":\"Any\",\"default\":null},{\"name\":\"style\",\"kind\":\"Any\",\"default\":null}]},{\"type\":\"model\",\"name\":\"NotificationAreaBase1\",\"properties\":[{\"name\":\"js_events\",\"kind\":\"Any\",\"default\":{\"type\":\"map\"}},{\"name\":\"position\",\"kind\":\"Any\",\"default\":\"bottom-right\"},{\"name\":\"_clear\",\"kind\":\"Any\",\"default\":0}]},{\"type\":\"model\",\"name\":\"NotificationArea1\",\"properties\":[{\"name\":\"js_events\",\"kind\":\"Any\",\"default\":{\"type\":\"map\"}},{\"name\":\"notifications\",\"kind\":\"Any\",\"default\":[]},{\"name\":\"position\",\"kind\":\"Any\",\"default\":\"bottom-right\"},{\"name\":\"_clear\",\"kind\":\"Any\",\"default\":0},{\"name\":\"types\",\"kind\":\"Any\",\"default\":[{\"type\":\"map\",\"entries\":[[\"type\",\"warning\"],[\"background\",\"#ffc107\"],[\"icon\",{\"type\":\"map\",\"entries\":[[\"className\",\"fas fa-exclamation-triangle\"],[\"tagName\",\"i\"],[\"color\",\"white\"]]}]]},{\"type\":\"map\",\"entries\":[[\"type\",\"info\"],[\"background\",\"#007bff\"],[\"icon\",{\"type\":\"map\",\"entries\":[[\"className\",\"fas fa-info-circle\"],[\"tagName\",\"i\"],[\"color\",\"white\"]]}]]}]}]},{\"type\":\"model\",\"name\":\"Notification\",\"properties\":[{\"name\":\"background\",\"kind\":\"Any\",\"default\":null},{\"name\":\"duration\",\"kind\":\"Any\",\"default\":3000},{\"name\":\"icon\",\"kind\":\"Any\",\"default\":null},{\"name\":\"message\",\"kind\":\"Any\",\"default\":\"\"},{\"name\":\"notification_type\",\"kind\":\"Any\",\"default\":null},{\"name\":\"_destroyed\",\"kind\":\"Any\",\"default\":false}]},{\"type\":\"model\",\"name\":\"TemplateActions1\",\"properties\":[{\"name\":\"open_modal\",\"kind\":\"Any\",\"default\":0},{\"name\":\"close_modal\",\"kind\":\"Any\",\"default\":0}]},{\"type\":\"model\",\"name\":\"BootstrapTemplateActions1\",\"properties\":[{\"name\":\"open_modal\",\"kind\":\"Any\",\"default\":0},{\"name\":\"close_modal\",\"kind\":\"Any\",\"default\":0}]},{\"type\":\"model\",\"name\":\"MaterialTemplateActions1\",\"properties\":[{\"name\":\"open_modal\",\"kind\":\"Any\",\"default\":0},{\"name\":\"close_modal\",\"kind\":\"Any\",\"default\":0}]}]}};\n",
              "  var render_items = [{\"docid\":\"fb541897-7dbb-4f96-9669-255c6cd5c026\",\"roots\":{\"p1002\":\"d7a6f094-9625-4b57-a7fb-3ce7ed88a010\"},\"root_ids\":[\"p1002\"]}];\n",
              "  var docs = Object.values(docs_json)\n",
              "  if (!docs) {\n",
              "    return\n",
              "  }\n",
              "  const py_version = docs[0].version.replace('rc', '-rc.').replace('.dev', '-dev.')\n",
              "  function embed_document(root) {\n",
              "    var Bokeh = get_bokeh(root)\n",
              "    Bokeh.embed.embed_items_notebook(docs_json, render_items);\n",
              "    for (const render_item of render_items) {\n",
              "      for (const root_id of render_item.root_ids) {\n",
              "\tconst id_el = document.getElementById(root_id)\n",
              "\tif (id_el.children.length && (id_el.children[0].className === 'bk-root')) {\n",
              "\t  const root_el = id_el.children[0]\n",
              "\t  root_el.id = root_el.id + '-rendered'\n",
              "\t}\n",
              "      }\n",
              "    }\n",
              "  }\n",
              "  function get_bokeh(root) {\n",
              "    if (root.Bokeh === undefined) {\n",
              "      return null\n",
              "    } else if (root.Bokeh.version !== py_version) {\n",
              "      if (root.Bokeh.versions === undefined || !root.Bokeh.versions.has(py_version)) {\n",
              "\treturn null\n",
              "      }\n",
              "      return root.Bokeh.versions.get(py_version);\n",
              "    } else if (root.Bokeh.version === py_version) {\n",
              "      return root.Bokeh\n",
              "    }\n",
              "    return null\n",
              "  }\n",
              "  function is_loaded(root) {\n",
              "    var Bokeh = get_bokeh(root)\n",
              "    return (Bokeh != null && Bokeh.Panel !== undefined)\n",
              "  }\n",
              "  if (is_loaded(root)) {\n",
              "    embed_document(root);\n",
              "  } else {\n",
              "    var attempts = 0;\n",
              "    var timer = setInterval(function(root) {\n",
              "      if (is_loaded(root)) {\n",
              "        clearInterval(timer);\n",
              "        embed_document(root);\n",
              "      } else if (document.readyState == \"complete\") {\n",
              "        attempts++;\n",
              "        if (attempts > 200) {\n",
              "          clearInterval(timer);\n",
              "\t  var Bokeh = get_bokeh(root)\n",
              "\t  if (Bokeh == null || Bokeh.Panel == null) {\n",
              "            console.warn(\"Panel: ERROR: Unable to run Panel code because Bokeh or Panel library is missing\");\n",
              "\t  } else {\n",
              "\t    console.warn(\"Panel: WARNING: Attempting to render but not all required libraries could be resolved.\")\n",
              "\t    embed_document(root)\n",
              "\t  }\n",
              "        }\n",
              "      }\n",
              "    }, 25, root)\n",
              "  }\n",
              "})(window);</script>"
            ]
          },
          "metadata": {
            "application/vnd.holoviews_exec.v0+json": {
              "id": "p1002"
            }
          },
          "output_type": "display_data"
        }
      ],
      "source": [
        "# Work with vector data\n",
        "import geopandas as gpd\n",
        "\n",
        "# Save maps and plots to files\n",
        "import holoviews as hv\n",
        "# Create interactive maps and plots\n",
        "import hvplot.pandas\n",
        "\n",
        "# Search for locations by name - this might take a moment\n",
        "from osmnx import features as osm"
      ]
    },
    {
      "cell_type": "markdown",
      "id": "f9505692-f5e7-4163-9ba7-7a08773dc238",
      "metadata": {},
      "source": [
        "### Search for a point of interest\n",
        "\n",
        "You can use the `pyrosm` package to download and search for spatial\n",
        "vector data in your area, or anywhere around the world.\n",
        "\n",
        "In this case, we’re looking for the location of the United Tribes\n",
        "Technical College campus in North Dakota. The address in here,\n",
        "`'United Tribes Technical College, Bismarck, ND, United States'`, does\n",
        "not have to be complete or exact, but it should be specific enough to\n",
        "narrow it down. We are also specifying that we want it to be tagged as an\n",
        "`'amentity'` type, specifically a `'college'` You might have to try a\n",
        "couple different searches with different addresses and/or tags to get\n",
        "the address you want, just like if you are using a map website or app."
      ]
    },
    {
      "cell_type": "code",
      "execution_count": 2,
      "id": "ccab3433",
      "metadata": {},
      "outputs": [
        {
          "data": {
            "text/html": [
              "<div>\n",
              "<style scoped>\n",
              "    .dataframe tbody tr th:only-of-type {\n",
              "        vertical-align: middle;\n",
              "    }\n",
              "\n",
              "    .dataframe tbody tr th {\n",
              "        vertical-align: top;\n",
              "    }\n",
              "\n",
              "    .dataframe thead th {\n",
              "        text-align: right;\n",
              "    }\n",
              "</style>\n",
              "<table border=\"1\" class=\"dataframe\">\n",
              "  <thead>\n",
              "    <tr style=\"text-align: right;\">\n",
              "      <th></th>\n",
              "      <th></th>\n",
              "      <th>geometry</th>\n",
              "      <th>ways</th>\n",
              "      <th>alt_name</th>\n",
              "      <th>amenity</th>\n",
              "      <th>education</th>\n",
              "      <th>internet_access</th>\n",
              "      <th>name</th>\n",
              "      <th>operator</th>\n",
              "      <th>type</th>\n",
              "      <th>website</th>\n",
              "      <th>wikidata</th>\n",
              "      <th>wikipedia</th>\n",
              "      <th>nodes</th>\n",
              "    </tr>\n",
              "    <tr>\n",
              "      <th>element_type</th>\n",
              "      <th>osmid</th>\n",
              "      <th></th>\n",
              "      <th></th>\n",
              "      <th></th>\n",
              "      <th></th>\n",
              "      <th></th>\n",
              "      <th></th>\n",
              "      <th></th>\n",
              "      <th></th>\n",
              "      <th></th>\n",
              "      <th></th>\n",
              "      <th></th>\n",
              "      <th></th>\n",
              "      <th></th>\n",
              "    </tr>\n",
              "  </thead>\n",
              "  <tbody>\n",
              "    <tr>\n",
              "      <th>relation</th>\n",
              "      <th>7144092</th>\n",
              "      <td>POLYGON ((-89.40642 43.07767, -89.40604 43.077...</td>\n",
              "      <td>[490596322, 490596323]</td>\n",
              "      <td>UW-Madison</td>\n",
              "      <td>university</td>\n",
              "      <td>university</td>\n",
              "      <td>yes</td>\n",
              "      <td>University of Wisconsin-Madison</td>\n",
              "      <td>University of Wisconsin</td>\n",
              "      <td>multipolygon</td>\n",
              "      <td>https://www.wisc.edu/</td>\n",
              "      <td>Q838330</td>\n",
              "      <td>en:University of Wisconsin–Madison</td>\n",
              "      <td>[[[4055667816, 4055667813, 4055667815, 4055667...</td>\n",
              "    </tr>\n",
              "  </tbody>\n",
              "</table>\n",
              "</div>"
            ],
            "text/plain": [
              "                                                               geometry  \\\n",
              "element_type osmid                                                        \n",
              "relation     7144092  POLYGON ((-89.40642 43.07767, -89.40604 43.077...   \n",
              "\n",
              "                                        ways    alt_name     amenity  \\\n",
              "element_type osmid                                                     \n",
              "relation     7144092  [490596322, 490596323]  UW-Madison  university   \n",
              "\n",
              "                       education internet_access  \\\n",
              "element_type osmid                                 \n",
              "relation     7144092  university             yes   \n",
              "\n",
              "                                                 name  \\\n",
              "element_type osmid                                      \n",
              "relation     7144092  University of Wisconsin-Madison   \n",
              "\n",
              "                                     operator          type  \\\n",
              "element_type osmid                                            \n",
              "relation     7144092  University of Wisconsin  multipolygon   \n",
              "\n",
              "                                    website wikidata  \\\n",
              "element_type osmid                                     \n",
              "relation     7144092  https://www.wisc.edu/  Q838330   \n",
              "\n",
              "                                               wikipedia  \\\n",
              "element_type osmid                                         \n",
              "relation     7144092  en:University of Wisconsin–Madison   \n",
              "\n",
              "                                                                  nodes  \n",
              "element_type osmid                                                       \n",
              "relation     7144092  [[[4055667816, 4055667813, 4055667815, 4055667...  "
            ]
          },
          "execution_count": 2,
          "metadata": {},
          "output_type": "execute_result"
        }
      ],
      "source": [
        "osm_gdf = osm.features_from_place(\n",
        "    'UW-Madison',\n",
        "    {'amenity': ['university']})\n",
        "\n",
        "osm_gdf"
      ]
    },
    {
      "cell_type": "code",
      "execution_count": 4,
      "id": "8aa08622",
      "metadata": {},
      "outputs": [
        {
          "data": {
            "text/plain": [
              "<Axes: >"
            ]
          },
          "execution_count": 4,
          "metadata": {},
          "output_type": "execute_result"
        },
        {
          "data": {
            "image/png": "[encoded data removed]",
            "text/plain": [
              "<Figure size 640x480 with 1 Axes>"
            ]
          },
          "metadata": {},
          "output_type": "display_data"
        }
      ],
      "source": [
        "osm_gdf.plot()"
      ]
    },
    {
      "cell_type": "markdown",
      "id": "eaafd823-c1f1-46f2-96e2-486a405e9ef5",
      "metadata": {},
      "source": [
        "We have a map of the olm Campus!\n",
        "\n",
        "> **Warning**\n",
        ">\n",
        "> The Open Street Maps (OSM) database is not always complete. For\n",
        "> example, try searching for UTTC with the `{'building': True}`, and\n",
        "> compare it to the [map of the UTTC campus on their\n",
        "> website](https://uttc.edu/wp-content/uploads/2022/12/CAMPUS-MAP-2022-23.pdf).\n",
        "> What do you notice?\n",
        "\n",
        "### Create an interactive map\n",
        "\n",
        "There are lots of different ways to create maps and plots in Python.\n",
        "Here, we’re going to use a tool called `'hvplot'` and `'geoviews'` to\n",
        "create an interactive map, including the online `'EsriImagery'` tile\n",
        "source basemap."
      ]
    },
    {
      "cell_type": "code",
      "execution_count": 8,
      "id": "8176d4d3",
      "metadata": {},
      "outputs": [
        {
          "name": "stderr",
          "output_type": "stream",
          "text": [
            "WARNING:bokeh.core.validation.check:W-1005 (FIXED_SIZING_MODE): 'fixed' sizing mode requires width and height to be set: figure(id='p1043', ...)\n"
          ]
        },
        {
          "data": {},
          "metadata": {},
          "output_type": "display_data"
        },
        {
          "data": {
            "application/vnd.holoviews_exec.v0+json": "",
            "text/html": [
              "<div id='p1099'>\n",
              "  <div id=\"f0f8fce5-ba16-4b5f-84f6-ba9a9d397183\" data-root-id=\"p1099\" style=\"display: contents;\"></div>\n",
              "</div>\n",
              "<script type=\"application/javascript\">(function(root) {\n",
              "  var docs_json = {\"fdc035bf-b1c2-4c03-95c6-b07de2953de5\":{\"version\":\"3.3.4\",\"title\":\"Bokeh Application\",\"roots\":[{\"type\":\"object\",\"name\":\"Row\",\"id\":\"p1099\",\"attributes\":{\"name\":\"Row01845\",\"tags\":[\"embedded\"],\"stylesheets\":[\"\\n:host(.pn-loading.pn-arc):before, .pn-loading.pn-arc:before {\\n  background-image: url(\\\"data:image/svg+xml;base64,PHN2ZyB4bWxucz0iaHR0cDovL3d3dy53My5vcmcvMjAwMC9zdmciIHN0eWxlPSJtYXJnaW46IGF1dG87IGJhY2tncm91bmQ6IG5vbmU7IGRpc3BsYXk6IGJsb2NrOyBzaGFwZS1yZW5kZXJpbmc6IGF1dG87IiB2aWV3Qm94PSIwIDAgMTAwIDEwMCIgcHJlc2VydmVBc3BlY3RSYXRpbz0ieE1pZFlNaWQiPiAgPGNpcmNsZSBjeD0iNTAiIGN5PSI1MCIgZmlsbD0ibm9uZSIgc3Ryb2tlPSIjYzNjM2MzIiBzdHJva2Utd2lkdGg9IjEwIiByPSIzNSIgc3Ryb2tlLWRhc2hhcnJheT0iMTY0LjkzMzYxNDMxMzQ2NDE1IDU2Ljk3Nzg3MTQzNzgyMTM4Ij4gICAgPGFuaW1hdGVUcmFuc2Zvcm0gYXR0cmlidXRlTmFtZT0idHJhbnNmb3JtIiB0eXBlPSJyb3RhdGUiIHJlcGVhdENvdW50PSJpbmRlZmluaXRlIiBkdXI9IjFzIiB2YWx1ZXM9IjAgNTAgNTA7MzYwIDUwIDUwIiBrZXlUaW1lcz0iMDsxIj48L2FuaW1hdGVUcmFuc2Zvcm0+ICA8L2NpcmNsZT48L3N2Zz4=\\\");\\n  background-size: auto calc(min(50%, 400px));\\n}\",{\"type\":\"object\",\"name\":\"ImportedStyleSheet\",\"id\":\"p1102\",\"attributes\":{\"url\":\"https://cdn.holoviz.org/panel/1.3.8/dist/css/loading.css\"}},{\"type\":\"object\",\"name\":\"ImportedStyleSheet\",\"id\":\"p1182\",\"attributes\":{\"url\":\"https://cdn.holoviz.org/panel/1.3.8/dist/css/listpanel.css\"}},{\"type\":\"object\",\"name\":\"ImportedStyleSheet\",\"id\":\"p1100\",\"attributes\":{\"url\":\"https://cdn.holoviz.org/panel/1.3.8/dist/bundled/theme/default.css\"}},{\"type\":\"object\",\"name\":\"ImportedStyleSheet\",\"id\":\"p1101\",\"attributes\":{\"url\":\"https://cdn.holoviz.org/panel/1.3.8/dist/bundled/theme/native.css\"}}],\"margin\":0,\"sizing_mode\":\"stretch_width\",\"align\":\"start\",\"children\":[{\"type\":\"object\",\"name\":\"Spacer\",\"id\":\"p1103\",\"attributes\":{\"name\":\"HSpacer01850\",\"stylesheets\":[\"\\n:host(.pn-loading.pn-arc):before, .pn-loading.pn-arc:before {\\n  background-image: url(\\\"data:image/svg+xml;base64,PHN2ZyB4bWxucz0iaHR0cDovL3d3dy53My5vcmcvMjAwMC9zdmciIHN0eWxlPSJtYXJnaW46IGF1dG87IGJhY2tncm91bmQ6IG5vbmU7IGRpc3BsYXk6IGJsb2NrOyBzaGFwZS1yZW5kZXJpbmc6IGF1dG87IiB2aWV3Qm94PSIwIDAgMTAwIDEwMCIgcHJlc2VydmVBc3BlY3RSYXRpbz0ieE1pZFlNaWQiPiAgPGNpcmNsZSBjeD0iNTAiIGN5PSI1MCIgZmlsbD0ibm9uZSIgc3Ryb2tlPSIjYzNjM2MzIiBzdHJva2Utd2lkdGg9IjEwIiByPSIzNSIgc3Ryb2tlLWRhc2hhcnJheT0iMTY0LjkzMzYxNDMxMzQ2NDE1IDU2Ljk3Nzg3MTQzNzgyMTM4Ij4gICAgPGFuaW1hdGVUcmFuc2Zvcm0gYXR0cmlidXRlTmFtZT0idHJhbnNmb3JtIiB0eXBlPSJyb3RhdGUiIHJlcGVhdENvdW50PSJpbmRlZmluaXRlIiBkdXI9IjFzIiB2YWx1ZXM9IjAgNTAgNTA7MzYwIDUwIDUwIiBrZXlUaW1lcz0iMDsxIj48L2FuaW1hdGVUcmFuc2Zvcm0+ICA8L2NpcmNsZT48L3N2Zz4=\\\");\\n  background-size: auto calc(min(50%, 400px));\\n}\",{\"id\":\"p1102\"},{\"id\":\"p1100\"},{\"id\":\"p1101\"}],\"margin\":0,\"sizing_mode\":\"stretch_width\",\"align\":\"start\"}},{\"type\":\"object\",\"name\":\"Figure\",\"id\":\"p1131\",\"attributes\":{\"width\":null,\"height\":null,\"margin\":[5,10],\"sizing_mode\":\"fixed\",\"align\":\"start\",\"x_range\":{\"type\":\"object\",\"name\":\"Range1d\",\"id\":\"p1113\",\"attributes\":{\"tags\":[[[\"Longitude\",\"Longitude\",null]],[]],\"start\":-9957657.28150505,\"end\":-9950731.917871622,\"reset_start\":-9957657.28150505,\"reset_end\":-9950731.917871622,\"min_interval\":5}},\"y_range\":{\"type\":\"object\",\"name\":\"Range1d\",\"id\":\"p1114\",\"attributes\":{\"tags\":[[[\"Latitude\",\"Latitude\",null]],{\"type\":\"map\",\"entries\":[[\"invert_yaxis\",false],[\"autorange\",false]]}],\"start\":5320741.95285399,\"end\":5327667.316487418,\"reset_start\":5320741.95285399,\"reset_end\":5327667.316487418,\"min_interval\":5}},\"x_scale\":{\"type\":\"object\",\"name\":\"LinearScale\",\"id\":\"p1141\"},\"y_scale\":{\"type\":\"object\",\"name\":\"LinearScale\",\"id\":\"p1142\"},\"title\":{\"type\":\"object\",\"name\":\"Title\",\"id\":\"p1134\",\"attributes\":{\"text\":\"UW-Madison\",\"text_color\":\"black\",\"text_font_size\":\"12pt\"}},\"renderers\":[{\"type\":\"object\",\"name\":\"TileRenderer\",\"id\":\"p1164\",\"attributes\":{\"level\":\"underlay\",\"tile_source\":{\"type\":\"object\",\"name\":\"WMTSTileSource\",\"id\":\"p1160\",\"attributes\":{\"url\":\"https://server.arcgisonline.com/ArcGIS/rest/services/World_Imagery/MapServer/tile/{Z}/{Y}/{X}.jpg\",\"attribution\":\"&copy; <a href=\\\"http://downloads.esri.com/ArcGISOnline/docs/tou_summary.pdf\\\">Esri</a>, Earthstar Geographics\"}}}},{\"type\":\"object\",\"name\":\"GlyphRenderer\",\"id\":\"p1175\",\"attributes\":{\"data_source\":{\"type\":\"object\",\"name\":\"ColumnDataSource\",\"id\":\"p1166\",\"attributes\":{\"selected\":{\"type\":\"object\",\"name\":\"Selection\",\"id\":\"p1167\",\"attributes\":{\"indices\":[],\"line_indices\":[]}},\"selection_policy\":{\"type\":\"object\",\"name\":\"UnionRenderers\",\"id\":\"p1168\"},\"data\":{\"type\":\"map\",\"entries\":[[\"xs\",[[[{\"type\":\"ndarray\",\"array\":{\"type\":\"bytes\",\"data\":\"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\"},\"shape\":[562],\"dtype\":\"float64\",\"order\":\"little\"}]]]],[\"ys\",[[[{\"type\":\"ndarray\",\"array\":{\"type\":\"bytes\",\"data\":\"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\"},\"shape\":[562],\"dtype\":\"float64\",\"order\":\"little\"}]]]]]}}},\"view\":{\"type\":\"object\",\"name\":\"CDSView\",\"id\":\"p1176\",\"attributes\":{\"filter\":{\"type\":\"object\",\"name\":\"AllIndices\",\"id\":\"p1177\"}}},\"glyph\":{\"type\":\"object\",\"name\":\"MultiPolygons\",\"id\":\"p1172\",\"attributes\":{\"xs\":{\"type\":\"field\",\"field\":\"xs\"},\"ys\":{\"type\":\"field\",\"field\":\"ys\"},\"line_color\":{\"type\":\"value\",\"value\":\"skyblue\"},\"line_width\":{\"type\":\"value\",\"value\":5},\"fill_color\":{\"type\":\"value\",\"value\":\"white\"},\"fill_alpha\":{\"type\":\"value\",\"value\":0.2},\"hatch_color\":{\"type\":\"value\",\"value\":\"#30a2da\"}}},\"selection_glyph\":{\"type\":\"object\",\"name\":\"MultiPolygons\",\"id\":\"p1178\",\"attributes\":{\"xs\":{\"type\":\"field\",\"field\":\"xs\"},\"ys\":{\"type\":\"field\",\"field\":\"ys\"},\"line_color\":{\"type\":\"value\",\"value\":\"skyblue\"},\"line_alpha\":{\"type\":\"value\",\"value\":1.0},\"line_width\":{\"type\":\"value\",\"value\":5},\"line_join\":{\"type\":\"value\",\"value\":\"bevel\"},\"line_cap\":{\"type\":\"value\",\"value\":\"butt\"},\"line_dash\":{\"type\":\"value\",\"value\":[]},\"line_dash_offset\":{\"type\":\"value\",\"value\":0},\"fill_color\":{\"type\":\"value\",\"value\":\"white\"},\"fill_alpha\":{\"type\":\"value\",\"value\":0.2},\"hatch_color\":{\"type\":\"value\",\"value\":\"#30a2da\"},\"hatch_alpha\":{\"type\":\"value\",\"value\":1.0},\"hatch_scale\":{\"type\":\"value\",\"value\":12.0},\"hatch_pattern\":{\"type\":\"value\",\"value\":null},\"hatch_weight\":{\"type\":\"value\",\"value\":1.0}}},\"nonselection_glyph\":{\"type\":\"object\",\"name\":\"MultiPolygons\",\"id\":\"p1173\",\"attributes\":{\"xs\":{\"type\":\"field\",\"field\":\"xs\"},\"ys\":{\"type\":\"field\",\"field\":\"ys\"},\"line_color\":{\"type\":\"value\",\"value\":\"skyblue\"},\"line_alpha\":{\"type\":\"value\",\"value\":0.1},\"line_width\":{\"type\":\"value\",\"value\":5},\"fill_color\":{\"type\":\"value\",\"value\":\"white\"},\"fill_alpha\":{\"type\":\"value\",\"value\":0.2},\"hatch_color\":{\"type\":\"value\",\"value\":\"#30a2da\"},\"hatch_alpha\":{\"type\":\"value\",\"value\":0.1}}},\"muted_glyph\":{\"type\":\"object\",\"name\":\"MultiPolygons\",\"id\":\"p1174\",\"attributes\":{\"xs\":{\"type\":\"field\",\"field\":\"xs\"},\"ys\":{\"type\":\"field\",\"field\":\"ys\"},\"line_color\":{\"type\":\"value\",\"value\":\"skyblue\"},\"line_alpha\":{\"type\":\"value\",\"value\":0.2},\"line_width\":{\"type\":\"value\",\"value\":5},\"fill_color\":{\"type\":\"value\",\"value\":\"white\"},\"fill_alpha\":{\"type\":\"value\",\"value\":0.2},\"hatch_color\":{\"type\":\"value\",\"value\":\"#30a2da\"},\"hatch_alpha\":{\"type\":\"value\",\"value\":0.2}}}}}],\"toolbar\":{\"type\":\"object\",\"name\":\"Toolbar\",\"id\":\"p1140\",\"attributes\":{\"tools\":[{\"type\":\"object\",\"name\":\"WheelZoomTool\",\"id\":\"p1117\",\"attributes\":{\"renderers\":\"auto\",\"zoom_on_axis\":false}},{\"type\":\"object\",\"name\":\"BoxZoomTool\",\"id\":\"p1118\",\"attributes\":{\"overlay\":{\"type\":\"object\",\"name\":\"BoxAnnotation\",\"id\":\"p1006\",\"attributes\":{\"syncable\":false,\"level\":\"overlay\",\"visible\":false,\"left\":{\"type\":\"number\",\"value\":\"nan\"},\"right\":{\"type\":\"number\",\"value\":\"nan\"},\"top\":{\"type\":\"number\",\"value\":\"nan\"},\"bottom\":{\"type\":\"number\",\"value\":\"nan\"},\"left_units\":\"canvas\",\"right_units\":\"canvas\",\"top_units\":\"canvas\",\"bottom_units\":\"canvas\",\"line_color\":\"black\",\"line_alpha\":1.0,\"line_width\":2,\"line_dash\":[4,4],\"fill_color\":\"lightgrey\",\"fill_alpha\":0.5}},\"match_aspect\":true}},{\"type\":\"object\",\"name\":\"PanTool\",\"id\":\"p1154\"},{\"type\":\"object\",\"name\":\"ResetTool\",\"id\":\"p1155\"}],\"active_drag\":{\"id\":\"p1154\"}}},\"left\":[{\"type\":\"object\",\"name\":\"LinearAxis\",\"id\":\"p1148\",\"attributes\":{\"ticker\":{\"type\":\"object\",\"name\":\"MercatorTicker\",\"id\":\"p1158\",\"attributes\":{\"mantissas\":[1,2,5],\"dimension\":\"lat\"}},\"formatter\":{\"type\":\"object\",\"name\":\"MercatorTickFormatter\",\"id\":\"p1159\",\"attributes\":{\"dimension\":\"lat\"}},\"axis_label\":\"Latitude\",\"major_label_policy\":{\"type\":\"object\",\"name\":\"AllLabels\",\"id\":\"p1151\"}}}],\"below\":[{\"type\":\"object\",\"name\":\"LinearAxis\",\"id\":\"p1143\",\"attributes\":{\"ticker\":{\"type\":\"object\",\"name\":\"MercatorTicker\",\"id\":\"p1156\",\"attributes\":{\"mantissas\":[1,2,5],\"dimension\":\"lon\"}},\"formatter\":{\"type\":\"object\",\"name\":\"MercatorTickFormatter\",\"id\":\"p1157\",\"attributes\":{\"dimension\":\"lon\"}},\"axis_label\":\"Longitude\",\"major_label_policy\":{\"type\":\"object\",\"name\":\"AllLabels\",\"id\":\"p1146\"}}}],\"center\":[{\"type\":\"object\",\"name\":\"Grid\",\"id\":\"p1147\",\"attributes\":{\"axis\":{\"id\":\"p1143\"},\"grid_line_color\":null}},{\"type\":\"object\",\"name\":\"Grid\",\"id\":\"p1152\",\"attributes\":{\"dimension\":1,\"axis\":{\"id\":\"p1148\"},\"grid_line_color\":null}}],\"frame_width\":400,\"frame_height\":400,\"min_border_top\":10,\"min_border_bottom\":10,\"min_border_left\":10,\"min_border_right\":10,\"output_backend\":\"webgl\",\"match_aspect\":true}},{\"type\":\"object\",\"name\":\"Spacer\",\"id\":\"p1180\",\"attributes\":{\"name\":\"HSpacer01851\",\"stylesheets\":[\"\\n:host(.pn-loading.pn-arc):before, .pn-loading.pn-arc:before {\\n  background-image: url(\\\"data:image/svg+xml;base64,PHN2ZyB4bWxucz0iaHR0cDovL3d3dy53My5vcmcvMjAwMC9zdmciIHN0eWxlPSJtYXJnaW46IGF1dG87IGJhY2tncm91bmQ6IG5vbmU7IGRpc3BsYXk6IGJsb2NrOyBzaGFwZS1yZW5kZXJpbmc6IGF1dG87IiB2aWV3Qm94PSIwIDAgMTAwIDEwMCIgcHJlc2VydmVBc3BlY3RSYXRpbz0ieE1pZFlNaWQiPiAgPGNpcmNsZSBjeD0iNTAiIGN5PSI1MCIgZmlsbD0ibm9uZSIgc3Ryb2tlPSIjYzNjM2MzIiBzdHJva2Utd2lkdGg9IjEwIiByPSIzNSIgc3Ryb2tlLWRhc2hhcnJheT0iMTY0LjkzMzYxNDMxMzQ2NDE1IDU2Ljk3Nzg3MTQzNzgyMTM4Ij4gICAgPGFuaW1hdGVUcmFuc2Zvcm0gYXR0cmlidXRlTmFtZT0idHJhbnNmb3JtIiB0eXBlPSJyb3RhdGUiIHJlcGVhdENvdW50PSJpbmRlZmluaXRlIiBkdXI9IjFzIiB2YWx1ZXM9IjAgNTAgNTA7MzYwIDUwIDUwIiBrZXlUaW1lcz0iMDsxIj48L2FuaW1hdGVUcmFuc2Zvcm0+ICA8L2NpcmNsZT48L3N2Zz4=\\\");\\n  background-size: auto calc(min(50%, 400px));\\n}\",{\"id\":\"p1102\"},{\"id\":\"p1100\"},{\"id\":\"p1101\"}],\"margin\":0,\"sizing_mode\":\"stretch_width\",\"align\":\"start\"}}]}}],\"defs\":[{\"type\":\"model\",\"name\":\"ReactiveHTML1\"},{\"type\":\"model\",\"name\":\"FlexBox1\",\"properties\":[{\"name\":\"align_content\",\"kind\":\"Any\",\"default\":\"flex-start\"},{\"name\":\"align_items\",\"kind\":\"Any\",\"default\":\"flex-start\"},{\"name\":\"flex_direction\",\"kind\":\"Any\",\"default\":\"row\"},{\"name\":\"flex_wrap\",\"kind\":\"Any\",\"default\":\"wrap\"},{\"name\":\"justify_content\",\"kind\":\"Any\",\"default\":\"flex-start\"}]},{\"type\":\"model\",\"name\":\"FloatPanel1\",\"properties\":[{\"name\":\"config\",\"kind\":\"Any\",\"default\":{\"type\":\"map\"}},{\"name\":\"contained\",\"kind\":\"Any\",\"default\":true},{\"name\":\"position\",\"kind\":\"Any\",\"default\":\"right-top\"},{\"name\":\"offsetx\",\"kind\":\"Any\",\"default\":null},{\"name\":\"offsety\",\"kind\":\"Any\",\"default\":null},{\"name\":\"theme\",\"kind\":\"Any\",\"default\":\"primary\"},{\"name\":\"status\",\"kind\":\"Any\",\"default\":\"normalized\"}]},{\"type\":\"model\",\"name\":\"GridStack1\",\"properties\":[{\"name\":\"mode\",\"kind\":\"Any\",\"default\":\"warn\"},{\"name\":\"ncols\",\"kind\":\"Any\",\"default\":null},{\"name\":\"nrows\",\"kind\":\"Any\",\"default\":null},{\"name\":\"allow_resize\",\"kind\":\"Any\",\"default\":true},{\"name\":\"allow_drag\",\"kind\":\"Any\",\"default\":true},{\"name\":\"state\",\"kind\":\"Any\",\"default\":[]}]},{\"type\":\"model\",\"name\":\"drag1\",\"properties\":[{\"name\":\"slider_width\",\"kind\":\"Any\",\"default\":5},{\"name\":\"slider_color\",\"kind\":\"Any\",\"default\":\"black\"},{\"name\":\"value\",\"kind\":\"Any\",\"default\":50}]},{\"type\":\"model\",\"name\":\"click1\",\"properties\":[{\"name\":\"terminal_output\",\"kind\":\"Any\",\"default\":\"\"},{\"name\":\"debug_name\",\"kind\":\"Any\",\"default\":\"\"},{\"name\":\"clears\",\"kind\":\"Any\",\"default\":0}]},{\"type\":\"model\",\"name\":\"copy_to_clipboard1\",\"properties\":[{\"name\":\"fill\",\"kind\":\"Any\",\"default\":\"none\"},{\"name\":\"value\",\"kind\":\"Any\",\"default\":null}]},{\"type\":\"model\",\"name\":\"FastWrapper1\",\"properties\":[{\"name\":\"object\",\"kind\":\"Any\",\"default\":null},{\"name\":\"style\",\"kind\":\"Any\",\"default\":null}]},{\"type\":\"model\",\"name\":\"NotificationAreaBase1\",\"properties\":[{\"name\":\"js_events\",\"kind\":\"Any\",\"default\":{\"type\":\"map\"}},{\"name\":\"position\",\"kind\":\"Any\",\"default\":\"bottom-right\"},{\"name\":\"_clear\",\"kind\":\"Any\",\"default\":0}]},{\"type\":\"model\",\"name\":\"NotificationArea1\",\"properties\":[{\"name\":\"js_events\",\"kind\":\"Any\",\"default\":{\"type\":\"map\"}},{\"name\":\"notifications\",\"kind\":\"Any\",\"default\":[]},{\"name\":\"position\",\"kind\":\"Any\",\"default\":\"bottom-right\"},{\"name\":\"_clear\",\"kind\":\"Any\",\"default\":0},{\"name\":\"types\",\"kind\":\"Any\",\"default\":[{\"type\":\"map\",\"entries\":[[\"type\",\"warning\"],[\"background\",\"#ffc107\"],[\"icon\",{\"type\":\"map\",\"entries\":[[\"className\",\"fas fa-exclamation-triangle\"],[\"tagName\",\"i\"],[\"color\",\"white\"]]}]]},{\"type\":\"map\",\"entries\":[[\"type\",\"info\"],[\"background\",\"#007bff\"],[\"icon\",{\"type\":\"map\",\"entries\":[[\"className\",\"fas fa-info-circle\"],[\"tagName\",\"i\"],[\"color\",\"white\"]]}]]}]}]},{\"type\":\"model\",\"name\":\"Notification\",\"properties\":[{\"name\":\"background\",\"kind\":\"Any\",\"default\":null},{\"name\":\"duration\",\"kind\":\"Any\",\"default\":3000},{\"name\":\"icon\",\"kind\":\"Any\",\"default\":null},{\"name\":\"message\",\"kind\":\"Any\",\"default\":\"\"},{\"name\":\"notification_type\",\"kind\":\"Any\",\"default\":null},{\"name\":\"_destroyed\",\"kind\":\"Any\",\"default\":false}]},{\"type\":\"model\",\"name\":\"TemplateActions1\",\"properties\":[{\"name\":\"open_modal\",\"kind\":\"Any\",\"default\":0},{\"name\":\"close_modal\",\"kind\":\"Any\",\"default\":0}]},{\"type\":\"model\",\"name\":\"BootstrapTemplateActions1\",\"properties\":[{\"name\":\"open_modal\",\"kind\":\"Any\",\"default\":0},{\"name\":\"close_modal\",\"kind\":\"Any\",\"default\":0}]},{\"type\":\"model\",\"name\":\"MaterialTemplateActions1\",\"properties\":[{\"name\":\"open_modal\",\"kind\":\"Any\",\"default\":0},{\"name\":\"close_modal\",\"kind\":\"Any\",\"default\":0}]}]}};\n",
              "  var render_items = [{\"docid\":\"fdc035bf-b1c2-4c03-95c6-b07de2953de5\",\"roots\":{\"p1099\":\"f0f8fce5-ba16-4b5f-84f6-ba9a9d397183\"},\"root_ids\":[\"p1099\"]}];\n",
              "  var docs = Object.values(docs_json)\n",
              "  if (!docs) {\n",
              "    return\n",
              "  }\n",
              "  const py_version = docs[0].version.replace('rc', '-rc.').replace('.dev', '-dev.')\n",
              "  function embed_document(root) {\n",
              "    var Bokeh = get_bokeh(root)\n",
              "    Bokeh.embed.embed_items_notebook(docs_json, render_items);\n",
              "    for (const render_item of render_items) {\n",
              "      for (const root_id of render_item.root_ids) {\n",
              "\tconst id_el = document.getElementById(root_id)\n",
              "\tif (id_el.children.length && (id_el.children[0].className === 'bk-root')) {\n",
              "\t  const root_el = id_el.children[0]\n",
              "\t  root_el.id = root_el.id + '-rendered'\n",
              "\t}\n",
              "      }\n",
              "    }\n",
              "  }\n",
              "  function get_bokeh(root) {\n",
              "    if (root.Bokeh === undefined) {\n",
              "      return null\n",
              "    } else if (root.Bokeh.version !== py_version) {\n",
              "      if (root.Bokeh.versions === undefined || !root.Bokeh.versions.has(py_version)) {\n",
              "\treturn null\n",
              "      }\n",
              "      return root.Bokeh.versions.get(py_version);\n",
              "    } else if (root.Bokeh.version === py_version) {\n",
              "      return root.Bokeh\n",
              "    }\n",
              "    return null\n",
              "  }\n",
              "  function is_loaded(root) {\n",
              "    var Bokeh = get_bokeh(root)\n",
              "    return (Bokeh != null && Bokeh.Panel !== undefined)\n",
              "  }\n",
              "  if (is_loaded(root)) {\n",
              "    embed_document(root);\n",
              "  } else {\n",
              "    var attempts = 0;\n",
              "    var timer = setInterval(function(root) {\n",
              "      if (is_loaded(root)) {\n",
              "        clearInterval(timer);\n",
              "        embed_document(root);\n",
              "      } else if (document.readyState == \"complete\") {\n",
              "        attempts++;\n",
              "        if (attempts > 200) {\n",
              "          clearInterval(timer);\n",
              "\t  var Bokeh = get_bokeh(root)\n",
              "\t  if (Bokeh == null || Bokeh.Panel == null) {\n",
              "            console.warn(\"Panel: ERROR: Unable to run Panel code because Bokeh or Panel library is missing\");\n",
              "\t  } else {\n",
              "\t    console.warn(\"Panel: WARNING: Attempting to render but not all required libraries could be resolved.\")\n",
              "\t    embed_document(root)\n",
              "\t  }\n",
              "        }\n",
              "      }\n",
              "    }, 25, root)\n",
              "  }\n",
              "})(window);</script>"
            ],
            "text/plain": [
              ":Overlay\n",
              "   .WMTS.I     :WMTS   [Longitude,Latitude]\n",
              "   .Polygons.I :Polygons   [Longitude,Latitude]"
            ]
          },
          "execution_count": 8,
          "metadata": {
            "application/vnd.holoviews_exec.v0+json": {
              "id": "p1099"
            }
          },
          "output_type": "execute_result"
        }
      ],
      "source": [
        "# Plot OSM boundary\n",
        "osm_map = osm_gdf.reset_index().hvplot(\n",
        "    # Givethe map a descriptive title\n",
        "    title=\"UW-Madison\",\n",
        "    # Add a basemap\n",
        "    geo=True, tiles='EsriImagery',\n",
        "    # Change the colors\n",
        "    fill_color='white', fill_alpha=0.2,\n",
        "    line_color='skyblue', line_width=5,\n",
        "    # Change the image size\n",
        "    frame_width=400, frame_height=400)\n",
        "\n",
        "# Save the map as a file to put on the web\n",
        "hv.save(osm_map, 'osm.html')\n",
        "\n",
        "# Display the map\n",
        "osm_map"
      ]
    }
  ],
  "metadata": {
    "kernelspec": {
      "display_name": "Python 3 (ipykernel)",
      "language": "python",
      "name": "python3"
    },
    "language_info": {
      "codemirror_mode": {
        "name": "ipython",
        "version": 3
      },
      "file_extension": ".py",
      "mimetype": "text/x-python",
      "name": "python",
      "nbconvert_exporter": "python",
      "pygments_lexer": "ipython3",
      "version": "3.11.6"
    }
  },
  "nbformat": 4,
  "nbformat_minor": 5
}
